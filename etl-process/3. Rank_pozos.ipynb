{
 "cells": [
  {
   "cell_type": "code",
   "execution_count": 0,
   "metadata": {
    "application/vnd.databricks.v1+cell": {
     "cellMetadata": {
      "byteLimit": 2048000,
      "rowLimit": 10000
     },
     "inputWidgets": {},
     "nuid": "cd7f385f-3656-4e8d-aa56-99bd71202433",
     "showTitle": false,
     "tableResultSettingsMap": {},
     "title": ""
    }
   },
   "outputs": [],
   "source": [
    "query = \"\"\"\n",
    "WITH RANK AS (\n",
    "    SELECT \n",
    "        ANIO,\n",
    "        POZO, \n",
    "        ROUND(SUM(PRODUCCION_MBD),2) AS TOTAL_ANUAL,\n",
    "        DENSE_RANK() OVER (PARTITION BY ANIO ORDER BY ROUND(AVG(PRODUCCION_MBD),2) DESC) AS rk\n",
    "    FROM workspace.pmx_etl.silver_pemex_prod\n",
    "    WHERE POZO != 'NACIONAL'\n",
    "    GROUP BY ANIO, POZO\n",
    ")\n",
    "SELECT * FROM RANK WHERE rk <= 10\n",
    "\"\"\""
   ]
  },
  {
   "cell_type": "code",
   "execution_count": 0,
   "metadata": {
    "application/vnd.databricks.v1+cell": {
     "cellMetadata": {
      "byteLimit": 2048000,
      "implicitDf": true,
      "rowLimit": 10000
     },
     "inputWidgets": {},
     "nuid": "adfed31f-32c3-4e85-89c3-647de337849e",
     "showTitle": false,
     "tableResultSettingsMap": {},
     "title": ""
    }
   },
   "outputs": [],
   "source": [
    "\n",
    "spark.sql(\n",
    "f\"\"\"\n",
    "CREATE OR REPLACE TABLE workspace.pmx_etl.rank_top_pozos_mensual\n",
    "USING DELTA\n",
    "PARTITIONED BY (POZO,ANIO)\n",
    "{query}\n",
    "\"\"\"\n",
    ")"
   ]
  },
  {
   "cell_type": "code",
   "execution_count": 0,
   "metadata": {
    "application/vnd.databricks.v1+cell": {
     "cellMetadata": {
      "byteLimit": 2048000,
      "rowLimit": 10000
     },
     "inputWidgets": {},
     "nuid": "d1dd0c41-808c-485e-aced-7736b5ca9135",
     "showTitle": false,
     "tableResultSettingsMap": {},
     "title": ""
    }
   },
   "outputs": [],
   "source": [
    "import plotly.express as px\n",
    "\n",
    "df = spark.sql(query)\n",
    "pdf = df.toPandas()\n",
    "\n",
    "# Ordena los años para que la línea salga bien\n",
    "pdf = pdf.sort_values([\"POZO\", \"ANIO\"])\n",
    "\n",
    "# Gráfico de líneas\n",
    "fig = px.line(\n",
    "    pdf,\n",
    "    x=\"ANIO\", y=\"TOTAL_ANUAL\", color=\"POZO\",\n",
    "    markers=True,\n",
    "    title=\"Top 10 pozos por año - Evolución (TOTAL_ANUAL MBD)\",\n",
    "    labels={\"ANIO\":\"Año\", \"TOTAL_ANUAL\":\"Total anual (MBD)\", \"POZO\":\"Pozo\"}\n",
    ")\n",
    "\n",
    "fig.update_traces(mode=\"lines+markers\")\n",
    "fig.update_layout(\n",
    "    height=600,\n",
    "    margin=dict(l=20,r=20,t=60,b=20),\n",
    "    legend_title=\"Pozo\"\n",
    ")\n",
    "\n",
    "display(fig)"
   ]
  },
  {
   "cell_type": "code",
   "execution_count": 0,
   "metadata": {
    "application/vnd.databricks.v1+cell": {
     "cellMetadata": {},
     "inputWidgets": {},
     "nuid": "26a6f9b7-70d8-4d34-8bda-a483c66ddfcf",
     "showTitle": false,
     "tableResultSettingsMap": {},
     "title": ""
    }
   },
   "outputs": [],
   "source": []
  }
 ],
 "metadata": {
  "application/vnd.databricks.v1+notebook": {
   "computePreferences": null,
   "dashboards": [],
   "environmentMetadata": {
    "base_environment": "",
    "environment_version": "3"
   },
   "inputWidgetPreferences": null,
   "language": "python",
   "notebookMetadata": {
    "mostRecentlyExecutedCommandWithImplicitDF": {
     "commandId": -1,
     "dataframes": [
      "_sqldf"
     ]
    },
    "pythonIndentUnit": 4
   },
   "notebookName": "3. Rank_pozos",
   "widgets": {}
  },
  "language_info": {
   "name": "python"
  }
 },
 "nbformat": 4,
 "nbformat_minor": 0
}
