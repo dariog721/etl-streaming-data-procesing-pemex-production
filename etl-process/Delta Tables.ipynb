{
 "cells": [
  {
   "cell_type": "markdown",
   "metadata": {
    "application/vnd.databricks.v1+cell": {
     "cellMetadata": {},
     "inputWidgets": {},
     "nuid": "1deb208e-e874-47df-a97a-d7e47b98feb2",
     "showTitle": false,
     "tableResultSettingsMap": {},
     "title": ""
    }
   },
   "source": [
    "#Landing & Bronze"
   ]
  },
  {
   "cell_type": "code",
   "execution_count": 0,
   "metadata": {
    "application/vnd.databricks.v1+cell": {
     "cellMetadata": {},
     "inputWidgets": {},
     "nuid": "597e737f-da27-4e22-aa6e-dc1c9e1d3949",
     "showTitle": false,
     "tableResultSettingsMap": {},
     "title": ""
    }
   },
   "outputs": [],
   "source": [
    "%sql\n",
    "-- Create volumes for landing, checkpointing and schema tracking\n",
    "CREATE VOLUME IF NOT EXISTS workspace.default.data_stage COMMENT 'landing_zone';\n",
    "CREATE VOLUME IF NOT EXISTS workspace.default.schema_tracking COMMENT 'Schema tracking for Auto Loader';"
   ]
  },
  {
   "cell_type": "code",
   "execution_count": 0,
   "metadata": {
    "application/vnd.databricks.v1+cell": {
     "cellMetadata": {
      "byteLimit": 2048000,
      "implicitDf": true,
      "rowLimit": 10000
     },
     "inputWidgets": {},
     "nuid": "c083810d-caf9-441f-9d73-9267d92fb104",
     "showTitle": false,
     "tableResultSettingsMap": {},
     "title": ""
    }
   },
   "outputs": [],
   "source": [
    "%sql\n",
    "CREATE SCHEMA IF NOT EXISTS workspace.pmx_etl; "
   ]
  },
  {
   "cell_type": "code",
   "execution_count": 0,
   "metadata": {
    "application/vnd.databricks.v1+cell": {
     "cellMetadata": {},
     "inputWidgets": {},
     "nuid": "dbc90e84-600f-4c59-883d-6613ea1beae8",
     "showTitle": false,
     "tableResultSettingsMap": {},
     "title": ""
    }
   },
   "outputs": [],
   "source": [
    "%sql\n",
    "-- Create delta table for bronze table \n",
    "CREATE VOLUME IF NOT EXISTS workspace.pmx_etl.checkpoints COMMENT 'Checkpoint storage for bronzew';\n",
    "\n",
    "CREATE TABLE IF NOT EXISTS workspace.pmx_etl.bronze_pmx_prod\n",
    "USING DELTA;"
   ]
  },
  {
   "cell_type": "markdown",
   "metadata": {
    "application/vnd.databricks.v1+cell": {
     "cellMetadata": {},
     "inputWidgets": {},
     "nuid": "441760af-ac7f-482a-80d9-68bcd08c1dfb",
     "showTitle": false,
     "tableResultSettingsMap": {},
     "title": ""
    }
   },
   "source": [
    "#Create Volume & Table for silver"
   ]
  },
  {
   "cell_type": "code",
   "execution_count": 0,
   "metadata": {
    "application/vnd.databricks.v1+cell": {
     "cellMetadata": {},
     "inputWidgets": {},
     "nuid": "962fcab6-5a1c-4e90-a3bd-528f447d4566",
     "showTitle": false,
     "tableResultSettingsMap": {},
     "title": ""
    }
   },
   "outputs": [],
   "source": [
    "%sql\n",
    "CREATE VOLUME IF NOT EXISTS workspace.pmx_etl.checkpoints_silver COMMENT 'Checkpoint storage';\n",
    "\n",
    "CREATE TABLE IF NOT EXISTS workspace.pmx_etl.silver_pemex_prod (\n",
    "  FECHA DATE, \n",
    "  ANIO INT,\n",
    "  MES INT,\n",
    "  POZO STRING,\n",
    "  PRODUCCION_MBD DOUBLE,\n",
    "  FLAG_NULL INT, FLAG_ZERO INT,\n",
    "  FLAG_OUTLIER_IQR INT,\n",
    "  FLAG_OUTLIER_MOM INT,\n",
    "  FLAG_INACTIVO INT,\n",
    "  DATA_SOURCE STRING,\n",
    "  INGESTION_TS TIMESTAMP\n",
    ") \n",
    "USING DELTA \n",
    "PARTITIONED BY (ANIO, MES);"
   ]
  }
 ],
 "metadata": {
  "application/vnd.databricks.v1+notebook": {
   "computePreferences": null,
   "dashboards": [],
   "environmentMetadata": {
    "base_environment": "",
    "environment_version": "3"
   },
   "inputWidgetPreferences": null,
   "language": "python",
   "notebookMetadata": {
    "mostRecentlyExecutedCommandWithImplicitDF": {
     "commandId": 5555123797788132,
     "dataframes": [
      "_sqldf"
     ]
    },
    "pythonIndentUnit": 4
   },
   "notebookName": "Delta Tables",
   "widgets": {}
  },
  "language_info": {
   "name": "python"
  }
 },
 "nbformat": 4,
 "nbformat_minor": 0
}
