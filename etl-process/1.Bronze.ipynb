{
 "cells": [
  {
   "cell_type": "code",
   "execution_count": 0,
   "metadata": {
    "application/vnd.databricks.v1+cell": {
     "cellMetadata": {
      "byteLimit": 2048000,
      "rowLimit": 10000
     },
     "inputWidgets": {},
     "nuid": "64f3dcbf-c223-45c8-9d50-114f9ca58934",
     "showTitle": false,
     "tableResultSettingsMap": {},
     "title": ""
    }
   },
   "outputs": [],
   "source": [
    "from pyspark.sql.functions import *\n",
    "import re"
   ]
  },
  {
   "cell_type": "code",
   "execution_count": 0,
   "metadata": {
    "application/vnd.databricks.v1+cell": {
     "cellMetadata": {
      "byteLimit": 2048000,
      "rowLimit": 10000
     },
     "inputWidgets": {},
     "nuid": "f429d87c-1ead-46de-921e-f0c58216e91e",
     "showTitle": false,
     "tableResultSettingsMap": {},
     "title": ""
    }
   },
   "outputs": [],
   "source": [
    "#Routes\n",
    "input_path = \"/Volumes/workspace/default/data_stage/\"\n",
    "checkpoint = \"/Volumes/workspace/default/checkpoints/bronze/data_prod_cp\"\n",
    "schema_location = \"/Volumes/workspace/default/schema/bronze/data_prod_schema\""
   ]
  },
  {
   "cell_type": "markdown",
   "metadata": {
    "application/vnd.databricks.v1+cell": {
     "cellMetadata": {},
     "inputWidgets": {},
     "nuid": "d243408f-8dcc-41d9-9284-4d08d1977ba9",
     "showTitle": false,
     "tableResultSettingsMap": {},
     "title": ""
    }
   },
   "source": [
    "#### Landing to Bronze"
   ]
  },
  {
   "cell_type": "code",
   "execution_count": 0,
   "metadata": {
    "application/vnd.databricks.v1+cell": {
     "cellMetadata": {
      "byteLimit": 2048000,
      "rowLimit": 10000
     },
     "inputWidgets": {},
     "nuid": "2e3f49f2-8bf8-4211-9e69-e2b47ae15a26",
     "showTitle": false,
     "tableResultSettingsMap": {},
     "title": ""
    }
   },
   "outputs": [],
   "source": [
    "#Read streaming table with cloudFiles Format\n",
    "df_raw_stream = (\n",
    "    spark.readStream.format(\"cloudFiles\")\\\n",
    "    .option(\"cloudFiles.format\", \"csv\")\n",
    "    .option(\"cloudFiles.inferColumnTypes\", \"true\") #Infer column type for new columns \n",
    "    .option(\"cloudFiles.schemaLocation\",\"/Volumes/workspace/default/schema_tracking\")\n",
    "    .option(\"header\", \"true\")\n",
    "    .option(\"cloudFiles.schemaEvolutionMode\", \"addNewColumns\") #Add new columns to schema\n",
    "    .load(input_path)\n",
    ")\n",
    "\n",
    "\n",
    "#Normalize columns\n",
    "def normalize_cols(df_raw_stream,cols):\n",
    "    df_rename_col = df_raw_stream\\\n",
    "        .select(\n",
    "            [col(c).alias(re.sub(r\"\\s+\", \"_\", re.sub(r\"\\s*\\(.*\\)\", \"\", c).strip())) for c in raw_cols] # Rename columns using regex\n",
    "        )\n",
    "    return df_rename_col\n",
    "\n",
    "# Adding new columns for date and ingestion date\n",
    "def add_ingestion_date(df_rename_col):\n",
    "    return df_rename_col.withColumn(\"ingestion_date\", current_timestamp())\n",
    "\n",
    "\n",
    "raw_cols = df_raw_stream.columns #Get columns from raw table\n",
    "df_rename = normalize_cols(df_raw_stream,raw_cols)\n",
    "df_transformed = add_ingestion_date(df_rename)\n",
    "\n",
    "# write stream\n",
    "query = (\n",
    "    df_transformed.writeStream\n",
    "    .format(\"delta\")\n",
    "    .option(\"checkpointLocation\", \"/Volumes/workspace/default/checkpoints\") \n",
    "    .option(\"mergeSchema\", \"true\")\n",
    "    .trigger(once=True) \n",
    "    .outputMode(\"append\")\n",
    "    .table(\"pmx_etl.bronze_pmx_prod\")\n",
    ")"
   ]
  }
 ],
 "metadata": {
  "application/vnd.databricks.v1+notebook": {
   "computePreferences": {
    "hardware": {
     "accelerator": null,
     "gpuPoolId": null,
     "memory": null
    }
   },
   "dashboards": [],
   "environmentMetadata": {
    "base_environment": "",
    "environment_version": "2"
   },
   "inputWidgetPreferences": null,
   "language": "python",
   "notebookMetadata": {
    "mostRecentlyExecutedCommandWithImplicitDF": {
     "commandId": 4504468508231383,
     "dataframes": [
      "_sqldf"
     ]
    },
    "pythonIndentUnit": 4
   },
   "notebookName": "1.Bronze",
   "widgets": {}
  },
  "language_info": {
   "name": "python"
  }
 },
 "nbformat": 4,
 "nbformat_minor": 0
}
