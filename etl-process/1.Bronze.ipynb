{
 "cells": [
  {
   "cell_type": "code",
   "execution_count": 0,
   "metadata": {
    "application/vnd.databricks.v1+cell": {
     "cellMetadata": {
      "byteLimit": 2048000,
      "rowLimit": 10000
     },
     "inputWidgets": {},
     "nuid": "64f3dcbf-c223-45c8-9d50-114f9ca58934",
     "showTitle": false,
     "tableResultSettingsMap": {},
     "title": ""
    }
   },
   "outputs": [],
   "source": [
    "from pyspark.sql.functions import *\n",
    "import re\n"
   ]
  },
  {
   "cell_type": "markdown",
   "metadata": {
    "application/vnd.databricks.v1+cell": {
     "cellMetadata": {
      "byteLimit": 2048000,
      "rowLimit": 10000
     },
     "inputWidgets": {},
     "nuid": "d243408f-8dcc-41d9-9284-4d08d1977ba9",
     "showTitle": false,
     "tableResultSettingsMap": {},
     "title": ""
    }
   },
   "source": [
    "#### Landing to Bronze"
   ]
  },
  {
   "cell_type": "code",
   "execution_count": 0,
   "metadata": {
    "application/vnd.databricks.v1+cell": {
     "cellMetadata": {
      "byteLimit": 2048000,
      "rowLimit": 10000
     },
     "inputWidgets": {},
     "nuid": "2e3f49f2-8bf8-4211-9e69-e2b47ae15a26",
     "showTitle": false,
     "tableResultSettingsMap": {},
     "title": ""
    }
   },
   "outputs": [],
   "source": [
    "#Read streaming table with cloudFiles Format\n",
    "df_raw_stream = (\n",
    "    spark.readStream.format(\"cloudFiles\")\\\n",
    "    .option(\"cloudFiles.format\", \"csv\")\n",
    "    .option(\"cloudFiles.inferColumnTypes\", \"true\") #Infer column type for new columns \n",
    "    .option(\"cloudFiles.schemaLocation\",\"/Volumes/workspace/default/schema_tracking\")\n",
    "    .option(\"header\", \"true\")\n",
    "    .option(\"cloudFiles.schemaEvolutionMode\", \"addNewColumns\") #Add new columns to schema\n",
    "    .load(\"/Volumes/workspace/default/data_stage\")\n",
    ")\n",
    "\n",
    "\n",
    "#Normalize columns\n",
    "def normalize_cols(cols):\n",
    "    import re, unicodedata\n",
    "    out = []\n",
    "    for c in cols:\n",
    "        s = unicodedata.normalize('NFKD', c).encode('ascii', 'ignore').decode('ascii')  \n",
    "        s = re.sub(r\"\\s*\\(.*?\\)\\s*\", \"\", s)                                          \n",
    "        s = re.sub(r\"[^\\w]+\", \"_\", s).strip(\"_\")                                      \n",
    "        out.append(s.upper())\n",
    "    return out\n",
    "\n",
    "bronze_renamed = df_raw_stream.toDF(*normalize_cols(df_raw_stream.columns))\n",
    "# write stream\n",
    "(brownze_q := bronze_renamed.writeStream\n",
    "  .format(\"delta\")\n",
    "  .option(\"checkpointLocation\",\"/Volumes/workspace/pmx_etl/checkpoints_bronze\")\n",
    "  .option(\"mergeSchema\", \"true\")\n",
    "  .trigger(once=True) \n",
    "  .table(\"pmx_etl.bronze_pmx_prod\")\n",
    ")"
   ]
  },
  {
   "cell_type": "code",
   "execution_count": 0,
   "metadata": {
    "application/vnd.databricks.v1+cell": {
     "cellMetadata": {
      "byteLimit": 2048000,
      "rowLimit": 10000
     },
     "inputWidgets": {},
     "nuid": "b572abc9-6c2e-4945-96b6-8f4c4d9c9c02",
     "showTitle": false,
     "tableResultSettingsMap": {},
     "title": ""
    }
   },
   "outputs": [],
   "source": [
    "#dbutils.fs.rm(\"/Volumes/workspace/pmx_etl/checkpoints_bronze\", recurse=True)\n",
    "#spark.sql(\"\"\"\n",
    "#          TRUNCATE TABLE pmx_etl.bronze_pmx_prod\n",
    "#          \"\"\")"
   ]
  },
  {
   "cell_type": "code",
   "execution_count": 0,
   "metadata": {
    "application/vnd.databricks.v1+cell": {
     "cellMetadata": {
      "byteLimit": 2048000,
      "rowLimit": 10000
     },
     "inputWidgets": {},
     "nuid": "734ff587-a497-4422-8c11-950c5a123fe5",
     "showTitle": false,
     "tableResultSettingsMap": {},
     "title": ""
    }
   },
   "outputs": [],
   "source": []
  }
 ],
 "metadata": {
  "application/vnd.databricks.v1+notebook": {
   "computePreferences": {
    "hardware": {
     "accelerator": null,
     "gpuPoolId": null,
     "memory": null
    }
   },
   "dashboards": [],
   "environmentMetadata": {
    "base_environment": "",
    "environment_version": "2"
   },
   "inputWidgetPreferences": null,
   "language": "python",
   "notebookMetadata": {
    "mostRecentlyExecutedCommandWithImplicitDF": {
     "commandId": 7234441346535754,
     "dataframes": [
      "_sqldf"
     ]
    },
    "pythonIndentUnit": 4
   },
   "notebookName": "1.Bronze",
   "widgets": {}
  },
  "language_info": {
   "name": "python"
  }
 },
 "nbformat": 4,
 "nbformat_minor": 0
}
