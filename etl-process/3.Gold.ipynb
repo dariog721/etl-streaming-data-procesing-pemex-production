{
 "cells": [
  {
   "cell_type": "code",
   "execution_count": 0,
   "metadata": {
    "application/vnd.databricks.v1+cell": {
     "cellMetadata": {},
     "inputWidgets": {},
     "nuid": "d57f4e95-2a17-4a9b-b204-fa2a4b28b05e",
     "showTitle": false,
     "tableResultSettingsMap": {},
     "title": ""
    }
   },
   "outputs": [],
   "source": [
    "%sql\n",
    "CREATE OR REPLACE TABLE workspace.pmx_etl.fact_prod_mensual\n",
    "USING DELTA\n",
    "PARTITIONED BY (ANIO, MES)\n",
    "AS\n",
    "SELECT * EXCEPT(DATA_SOURCE, INGESTION_TS) , DATA_SOURCE, INGESTION_TS\n",
    "FROM default.silver_pemex_prod_long;"
   ]
  }
 ],
 "metadata": {
  "application/vnd.databricks.v1+notebook": {
   "computePreferences": null,
   "dashboards": [],
   "environmentMetadata": {
    "base_environment": "",
    "environment_version": "3"
   },
   "inputWidgetPreferences": null,
   "language": "python",
   "notebookMetadata": {
    "pythonIndentUnit": 4
   },
   "notebookName": "3.Gold",
   "widgets": {}
  },
  "language_info": {
   "name": "python"
  }
 },
 "nbformat": 4,
 "nbformat_minor": 0
}
